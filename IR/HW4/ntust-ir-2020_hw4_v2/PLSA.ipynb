{
 "metadata": {
  "language_info": {
   "codemirror_mode": {
    "name": "ipython",
    "version": 3
   },
   "file_extension": ".py",
   "mimetype": "text/x-python",
   "name": "python",
   "nbconvert_exporter": "python",
   "pygments_lexer": "ipython3",
   "version": "3.7.1-final"
  },
  "orig_nbformat": 2,
  "kernelspec": {
   "name": "4a085d3b-95c3-4c08-941c-de1d43ca47ff",
   "display_name": "'Python Interactive'"
  }
 },
 "nbformat": 4,
 "nbformat_minor": 2,
 "cells": [
  {
   "cell_type": "code",
   "execution_count": 5,
   "metadata": {},
   "outputs": [],
   "source": [
    "import pandas as pd\n",
    "import numpy as np\n",
    "import math"
   ]
  },
  {
   "cell_type": "code",
   "execution_count": 6,
   "metadata": {},
   "outputs": [],
   "source": [
    "doc_list = open('doc_list.txt',mode = 'r').read()\n",
    "query_list = open('query_list.txt',mode = 'r').read()\n",
    "doc_list = doc_list.split(sep = '\\n')\n",
    "query_list = query_list.split(sep = '\\n')"
   ]
  },
  {
   "cell_type": "code",
   "execution_count": 8,
   "metadata": {},
   "outputs": [],
   "source": [
    "docs = []\n",
    "for doc in doc_list:\n",
    "    adr = 'docs/' + doc + '.txt'\n",
    "    words = open(adr,mode = 'r').read()\n",
    "    words = words.split(\" \")\n",
    "    docs.append(words)"
   ]
  },
  {
   "cell_type": "code",
   "execution_count": 13,
   "metadata": {},
   "outputs": [
    {
     "output_type": "execute_result",
     "data": {
      "text/plain": [
       "150"
      ]
     },
     "metadata": {},
     "execution_count": 13
    }
   ],
   "source": []
  },
  {
   "cell_type": "code",
   "execution_count": null,
   "metadata": {},
   "outputs": [],
   "source": [
    "#算tf\n",
    "tf = []\n",
    "df = {}\n",
    "idf = {}\n",
    "for doc in docs:\n",
    "    tmp = {}\n",
    "    for word in doc:\n",
    "        tmp[word] = tmp.get(word, 0) + 1\n",
    "    tf.append(tmp)\n",
    "    for k in tmp.keys():\n",
    "        df[k] = df.get(k,0) + 1\n",
    "#算idf\n",
    "for k, v in df.items():\n",
    "    idf[k] = math.log(  ( len(docs) - v + 0.5 )) / math.log((v + 0.5))"
   ]
  },
  {
   "cell_type": "code",
   "execution_count": null,
   "metadata": {},
   "outputs": [],
   "source": []
  }
 ]
}