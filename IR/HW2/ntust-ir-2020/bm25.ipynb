{
 "metadata": {
  "language_info": {
   "codemirror_mode": {
    "name": "ipython",
    "version": 3
   },
   "file_extension": ".py",
   "mimetype": "text/x-python",
   "name": "python",
   "nbconvert_exporter": "python",
   "pygments_lexer": "ipython3",
   "version": "3.7.1-final"
  },
  "orig_nbformat": 2,
  "kernelspec": {
   "name": "3e237d18-324a-4d6d-b9c2-74185982b090",
   "display_name": "'Python Interactive'"
  }
 },
 "nbformat": 4,
 "nbformat_minor": 2,
 "cells": [
  {
   "cell_type": "code",
   "execution_count": 223,
   "metadata": {},
   "outputs": [],
   "source": [
    "import pandas as pd\n",
    "import numpy as np\n",
    "import math"
   ]
  },
  {
   "cell_type": "code",
   "execution_count": 224,
   "metadata": {},
   "outputs": [],
   "source": [
    "doc_list = open('doc_list.txt',mode = 'r').read()\n",
    "query_list = open('query_list.txt',mode = 'r').read()\n",
    "doc_list = doc_list.split(sep = '\\n')\n",
    "query_list = query_list.split(sep = '\\n')"
   ]
  },
  {
   "cell_type": "code",
   "execution_count": 225,
   "metadata": {
    "tags": []
   },
   "outputs": [],
   "source": [
    "docs = []\n",
    "for doc in doc_list:\n",
    "    adr = 'docs/' + doc + '.txt'\n",
    "    words = open(adr,mode = 'r').read()\n",
    "    words = words.split(\" \")\n",
    "    docs.append(words)\n",
    "    "
   ]
  },
  {
   "cell_type": "code",
   "execution_count": 322,
   "metadata": {
    "tags": []
   },
   "outputs": [],
   "source": [
    "avgdl = sum([len(doc) for doc in docs]) / len(docs)\n",
    "k1 = 3.5\n",
    "b = 0.75\n"
   ]
  },
  {
   "cell_type": "code",
   "execution_count": 323,
   "metadata": {},
   "outputs": [],
   "source": [
    "#算tf\n",
    "tf = []\n",
    "df = {}\n",
    "idf = {}\n",
    "for doc in docs:\n",
    "    tmp = {}\n",
    "    for word in doc:\n",
    "        tmp[word] = tmp.get(word, 0) + 1\n",
    "    tf.append(tmp)\n",
    "    for k in tmp.keys():\n",
    "        df[k] = df.get(k,0) + 1\n",
    "#算idf\n",
    "for k, v in df.items():\n",
    "    idf[k] = math.log(  ( len(docs) - v + 0.5 )) / math.log((v + 0.5))\n",
    "    "
   ]
  },
  {
   "cell_type": "code",
   "execution_count": 324,
   "metadata": {},
   "outputs": [],
   "source": [
    "def sim(doc,index):\n",
    "    score = 0\n",
    "    for dword in doc:\n",
    "        if dword not in tf[index]:\n",
    "            continue\n",
    "        d = len(docs[index])\n",
    "        score += idf[dword] *  (tf[index][dword]*(k1+1)) / (tf[index][dword] + k1 * (1 - b + b * d/avgdl))\n",
    "    return score"
   ]
  },
  {
   "cell_type": "code",
   "execution_count": 325,
   "metadata": {
    "tags": []
   },
   "outputs": [],
   "source": [
    "\n",
    "fo = open('output.txt','w')\n",
    "fo.write('Query,RetrievedDocuments\\n')\n",
    "\n",
    "for query in query_list:\n",
    "    adr = 'queries/' + query + '.txt'\n",
    "    words = open(adr,mode = 'r').read()\n",
    "    words = words.split(\" \")\n",
    "    list1 = []\n",
    "    list2 = doc_list\n",
    "    for index in range(4191):\n",
    "        \n",
    "        \n",
    "        list1.append(sim(words,index))\n",
    "        \n",
    "    list1, list2 = zip(*sorted(zip(list1, list2)))\n",
    "    fo.write(query + ',')\n",
    "    for i in range (4191):\n",
    "        fo.write(str(list2[4190 - i]) + ' ')\n",
    "    fo.write('\\n')\n",
    "    "
   ]
  },
  {
   "cell_type": "code",
   "execution_count": 326,
   "metadata": {},
   "outputs": [
    {
     "output_type": "execute_result",
     "data": {
      "text/plain": [
       "346"
      ]
     },
     "metadata": {},
     "execution_count": 326
    }
   ],
   "source": [
    "df['post']"
   ]
  },
  {
   "cell_type": "code",
   "execution_count": null,
   "metadata": {},
   "outputs": [],
   "source": []
  }
 ]
}